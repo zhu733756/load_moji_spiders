{
 "cells": [
  {
   "cell_type": "code",
   "execution_count": 2,
   "metadata": {
    "collapsed": true
   },
   "outputs": [],
   "source": [
    "import pandas,json"
   ]
  },
  {
   "cell_type": "code",
   "execution_count": 3,
   "metadata": {},
   "outputs": [
    {
     "data": {
      "text/html": [
       "<div>\n",
       "<style>\n",
       "    .dataframe thead tr:only-child th {\n",
       "        text-align: right;\n",
       "    }\n",
       "\n",
       "    .dataframe thead th {\n",
       "        text-align: left;\n",
       "    }\n",
       "\n",
       "    .dataframe tbody tr th {\n",
       "        vertical-align: top;\n",
       "    }\n",
       "</style>\n",
       "<table border=\"1\" class=\"dataframe\">\n",
       "  <thead>\n",
       "    <tr style=\"text-align: right;\">\n",
       "      <th></th>\n",
       "      <th>LP</th>\n",
       "      <th>LV</th>\n",
       "      <th>info_href</th>\n",
       "      <th>lose_n</th>\n",
       "      <th>name</th>\n",
       "      <th>segment</th>\n",
       "      <th>win_n</th>\n",
       "      <th>win_rate</th>\n",
       "    </tr>\n",
       "    <tr>\n",
       "      <th>rank</th>\n",
       "      <th></th>\n",
       "      <th></th>\n",
       "      <th></th>\n",
       "      <th></th>\n",
       "      <th></th>\n",
       "      <th></th>\n",
       "      <th></th>\n",
       "      <th></th>\n",
       "    </tr>\n",
       "  </thead>\n",
       "  <tbody>\n",
       "    <tr>\n",
       "      <th>1</th>\n",
       "      <td>1,267 LP</td>\n",
       "      <td>Lv.133</td>\n",
       "      <td>//www.op.gg/summoner/userName=knight8</td>\n",
       "      <td>436</td>\n",
       "      <td>knight8</td>\n",
       "      <td>Challenger</td>\n",
       "      <td>568</td>\n",
       "      <td>57%</td>\n",
       "    </tr>\n",
       "    <tr>\n",
       "      <th>2</th>\n",
       "      <td>1,229 LP</td>\n",
       "      <td>Lv.41</td>\n",
       "      <td>//www.op.gg/summoner/userName=%EB%B0%94%EC%9C%...</td>\n",
       "      <td>37</td>\n",
       "      <td>바위게 내꺼야</td>\n",
       "      <td>Challenger</td>\n",
       "      <td>97</td>\n",
       "      <td>72%</td>\n",
       "    </tr>\n",
       "    <tr>\n",
       "      <th>3</th>\n",
       "      <td>1,145 LP</td>\n",
       "      <td>Lv.118</td>\n",
       "      <td>//www.op.gg/summoner/userName=dwgshowmaker</td>\n",
       "      <td>399</td>\n",
       "      <td>DWG ShowMaker</td>\n",
       "      <td>Challenger</td>\n",
       "      <td>496</td>\n",
       "      <td>55%</td>\n",
       "    </tr>\n",
       "    <tr>\n",
       "      <th>4</th>\n",
       "      <td>1,109 LP</td>\n",
       "      <td>Lv.131</td>\n",
       "      <td>//www.op.gg/summoner/userName=%EC%B9%BC%EA%B3%...</td>\n",
       "      <td>416</td>\n",
       "      <td>칼과 창 방패</td>\n",
       "      <td>Challenger</td>\n",
       "      <td>496</td>\n",
       "      <td>54%</td>\n",
       "    </tr>\n",
       "    <tr>\n",
       "      <th>5</th>\n",
       "      <td>1,097 LP</td>\n",
       "      <td>Lv.82</td>\n",
       "      <td>//www.op.gg/summoner/userName=mvpadd</td>\n",
       "      <td>184</td>\n",
       "      <td>MVP ADD</td>\n",
       "      <td>Challenger</td>\n",
       "      <td>259</td>\n",
       "      <td>58%</td>\n",
       "    </tr>\n",
       "  </tbody>\n",
       "</table>\n",
       "</div>"
      ],
      "text/plain": [
       "             LP      LV                                          info_href  \\\n",
       "rank                                                                         \n",
       "1      1,267 LP  Lv.133              //www.op.gg/summoner/userName=knight8   \n",
       "2      1,229 LP   Lv.41  //www.op.gg/summoner/userName=%EB%B0%94%EC%9C%...   \n",
       "3      1,145 LP  Lv.118         //www.op.gg/summoner/userName=dwgshowmaker   \n",
       "4      1,109 LP  Lv.131  //www.op.gg/summoner/userName=%EC%B9%BC%EA%B3%...   \n",
       "5      1,097 LP   Lv.82               //www.op.gg/summoner/userName=mvpadd   \n",
       "\n",
       "      lose_n           name      segment  win_n win_rate  \n",
       "rank                                                      \n",
       "1        436        knight8   Challenger    568      57%  \n",
       "2         37        바위게 내꺼야   Challenger     97      72%  \n",
       "3        399  DWG ShowMaker   Challenger    496      55%  \n",
       "4        416        칼과 창 방패   Challenger    496      54%  \n",
       "5        184        MVP ADD   Challenger    259      58%  "
      ]
     },
     "execution_count": 3,
     "metadata": {},
     "output_type": "execute_result"
    }
   ],
   "source": [
    "df_500_rank=pandas.read_json(r\"D:\\fluent_python\\load_loler\\hanfu_rank_500_20180724.txt\",lines=True,encoding=\"utf-8\")\n",
    "df_500_rank=df_500_rank.set_index(\"rank\")\n",
    "df_500_rank.index=df_500_rank.index.astype(\"int\")\n",
    "df_500_rank=df_500_rank.sort_index()\n",
    "df_500_rank.head()"
   ]
  },
  {
   "cell_type": "code",
   "execution_count": 4,
   "metadata": {},
   "outputs": [
    {
     "data": {
      "text/html": [
       "<div>\n",
       "<style>\n",
       "    .dataframe thead tr:only-child th {\n",
       "        text-align: right;\n",
       "    }\n",
       "\n",
       "    .dataframe thead th {\n",
       "        text-align: left;\n",
       "    }\n",
       "\n",
       "    .dataframe tbody tr th {\n",
       "        vertical-align: top;\n",
       "    }\n",
       "</style>\n",
       "<table border=\"1\" class=\"dataframe\">\n",
       "  <thead>\n",
       "    <tr style=\"text-align: right;\">\n",
       "      <th></th>\n",
       "      <th>LP</th>\n",
       "      <th>LV</th>\n",
       "      <th>info_href</th>\n",
       "      <th>lose_n</th>\n",
       "      <th>name</th>\n",
       "      <th>segment</th>\n",
       "      <th>win_n</th>\n",
       "      <th>win_rate</th>\n",
       "    </tr>\n",
       "    <tr>\n",
       "      <th>rank</th>\n",
       "      <th></th>\n",
       "      <th></th>\n",
       "      <th></th>\n",
       "      <th></th>\n",
       "      <th></th>\n",
       "      <th></th>\n",
       "      <th></th>\n",
       "      <th></th>\n",
       "    </tr>\n",
       "  </thead>\n",
       "  <tbody>\n",
       "    <tr>\n",
       "      <th>1</th>\n",
       "      <td>1267</td>\n",
       "      <td>Lv.133</td>\n",
       "      <td>//www.op.gg/summoner/userName=knight8</td>\n",
       "      <td>436</td>\n",
       "      <td>knight8</td>\n",
       "      <td>Challenger</td>\n",
       "      <td>568</td>\n",
       "      <td>57%</td>\n",
       "    </tr>\n",
       "    <tr>\n",
       "      <th>2</th>\n",
       "      <td>1229</td>\n",
       "      <td>Lv.41</td>\n",
       "      <td>//www.op.gg/summoner/userName=%EB%B0%94%EC%9C%...</td>\n",
       "      <td>37</td>\n",
       "      <td>바위게 내꺼야</td>\n",
       "      <td>Challenger</td>\n",
       "      <td>97</td>\n",
       "      <td>72%</td>\n",
       "    </tr>\n",
       "    <tr>\n",
       "      <th>3</th>\n",
       "      <td>1145</td>\n",
       "      <td>Lv.118</td>\n",
       "      <td>//www.op.gg/summoner/userName=dwgshowmaker</td>\n",
       "      <td>399</td>\n",
       "      <td>DWG ShowMaker</td>\n",
       "      <td>Challenger</td>\n",
       "      <td>496</td>\n",
       "      <td>55%</td>\n",
       "    </tr>\n",
       "    <tr>\n",
       "      <th>4</th>\n",
       "      <td>1109</td>\n",
       "      <td>Lv.131</td>\n",
       "      <td>//www.op.gg/summoner/userName=%EC%B9%BC%EA%B3%...</td>\n",
       "      <td>416</td>\n",
       "      <td>칼과 창 방패</td>\n",
       "      <td>Challenger</td>\n",
       "      <td>496</td>\n",
       "      <td>54%</td>\n",
       "    </tr>\n",
       "    <tr>\n",
       "      <th>5</th>\n",
       "      <td>1097</td>\n",
       "      <td>Lv.82</td>\n",
       "      <td>//www.op.gg/summoner/userName=mvpadd</td>\n",
       "      <td>184</td>\n",
       "      <td>MVP ADD</td>\n",
       "      <td>Challenger</td>\n",
       "      <td>259</td>\n",
       "      <td>58%</td>\n",
       "    </tr>\n",
       "  </tbody>\n",
       "</table>\n",
       "</div>"
      ],
      "text/plain": [
       "        LP      LV                                          info_href  lose_n  \\\n",
       "rank                                                                            \n",
       "1     1267  Lv.133              //www.op.gg/summoner/userName=knight8     436   \n",
       "2     1229   Lv.41  //www.op.gg/summoner/userName=%EB%B0%94%EC%9C%...      37   \n",
       "3     1145  Lv.118         //www.op.gg/summoner/userName=dwgshowmaker     399   \n",
       "4     1109  Lv.131  //www.op.gg/summoner/userName=%EC%B9%BC%EA%B3%...     416   \n",
       "5     1097   Lv.82               //www.op.gg/summoner/userName=mvpadd     184   \n",
       "\n",
       "               name      segment  win_n win_rate  \n",
       "rank                                              \n",
       "1           knight8   Challenger    568      57%  \n",
       "2           바위게 내꺼야   Challenger     97      72%  \n",
       "3     DWG ShowMaker   Challenger    496      55%  \n",
       "4           칼과 창 방패   Challenger    496      54%  \n",
       "5           MVP ADD   Challenger    259      58%  "
      ]
     },
     "execution_count": 4,
     "metadata": {},
     "output_type": "execute_result"
    }
   ],
   "source": [
    "df_500_rank.LP=df_500_rank.LP.str.split().str.get(0).str.replace(\",\",\"\")\n",
    "df_500_rank.head()"
   ]
  },
  {
   "cell_type": "code",
   "execution_count": 5,
   "metadata": {},
   "outputs": [
    {
     "name": "stderr",
     "output_type": "stream",
     "text": [
      "D:\\anaconda\\lib\\site-packages\\ipykernel_launcher.py:1: FutureWarning: currently extract(expand=None) means expand=False (return Index/Series/DataFrame) but in a future version of pandas this will be changed to expand=True (return DataFrame)\n",
      "  \"\"\"Entry point for launching an IPython kernel.\n"
     ]
    },
    {
     "data": {
      "text/html": [
       "<div>\n",
       "<style>\n",
       "    .dataframe thead tr:only-child th {\n",
       "        text-align: right;\n",
       "    }\n",
       "\n",
       "    .dataframe thead th {\n",
       "        text-align: left;\n",
       "    }\n",
       "\n",
       "    .dataframe tbody tr th {\n",
       "        vertical-align: top;\n",
       "    }\n",
       "</style>\n",
       "<table border=\"1\" class=\"dataframe\">\n",
       "  <thead>\n",
       "    <tr style=\"text-align: right;\">\n",
       "      <th></th>\n",
       "      <th>LP</th>\n",
       "      <th>LV</th>\n",
       "      <th>info_href</th>\n",
       "      <th>lose_n</th>\n",
       "      <th>name</th>\n",
       "      <th>segment</th>\n",
       "      <th>win_n</th>\n",
       "      <th>win_rate</th>\n",
       "    </tr>\n",
       "    <tr>\n",
       "      <th>rank</th>\n",
       "      <th></th>\n",
       "      <th></th>\n",
       "      <th></th>\n",
       "      <th></th>\n",
       "      <th></th>\n",
       "      <th></th>\n",
       "      <th></th>\n",
       "      <th></th>\n",
       "    </tr>\n",
       "  </thead>\n",
       "  <tbody>\n",
       "    <tr>\n",
       "      <th>1</th>\n",
       "      <td>1267</td>\n",
       "      <td>133</td>\n",
       "      <td>//www.op.gg/summoner/userName=knight8</td>\n",
       "      <td>436</td>\n",
       "      <td>knight8</td>\n",
       "      <td>Challenger</td>\n",
       "      <td>568</td>\n",
       "      <td>57%</td>\n",
       "    </tr>\n",
       "    <tr>\n",
       "      <th>2</th>\n",
       "      <td>1229</td>\n",
       "      <td>41</td>\n",
       "      <td>//www.op.gg/summoner/userName=%EB%B0%94%EC%9C%...</td>\n",
       "      <td>37</td>\n",
       "      <td>바위게 내꺼야</td>\n",
       "      <td>Challenger</td>\n",
       "      <td>97</td>\n",
       "      <td>72%</td>\n",
       "    </tr>\n",
       "    <tr>\n",
       "      <th>3</th>\n",
       "      <td>1145</td>\n",
       "      <td>118</td>\n",
       "      <td>//www.op.gg/summoner/userName=dwgshowmaker</td>\n",
       "      <td>399</td>\n",
       "      <td>DWG ShowMaker</td>\n",
       "      <td>Challenger</td>\n",
       "      <td>496</td>\n",
       "      <td>55%</td>\n",
       "    </tr>\n",
       "    <tr>\n",
       "      <th>4</th>\n",
       "      <td>1109</td>\n",
       "      <td>131</td>\n",
       "      <td>//www.op.gg/summoner/userName=%EC%B9%BC%EA%B3%...</td>\n",
       "      <td>416</td>\n",
       "      <td>칼과 창 방패</td>\n",
       "      <td>Challenger</td>\n",
       "      <td>496</td>\n",
       "      <td>54%</td>\n",
       "    </tr>\n",
       "    <tr>\n",
       "      <th>5</th>\n",
       "      <td>1097</td>\n",
       "      <td>82</td>\n",
       "      <td>//www.op.gg/summoner/userName=mvpadd</td>\n",
       "      <td>184</td>\n",
       "      <td>MVP ADD</td>\n",
       "      <td>Challenger</td>\n",
       "      <td>259</td>\n",
       "      <td>58%</td>\n",
       "    </tr>\n",
       "  </tbody>\n",
       "</table>\n",
       "</div>"
      ],
      "text/plain": [
       "        LP   LV                                          info_href  lose_n  \\\n",
       "rank                                                                         \n",
       "1     1267  133              //www.op.gg/summoner/userName=knight8     436   \n",
       "2     1229   41  //www.op.gg/summoner/userName=%EB%B0%94%EC%9C%...      37   \n",
       "3     1145  118         //www.op.gg/summoner/userName=dwgshowmaker     399   \n",
       "4     1109  131  //www.op.gg/summoner/userName=%EC%B9%BC%EA%B3%...     416   \n",
       "5     1097   82               //www.op.gg/summoner/userName=mvpadd     184   \n",
       "\n",
       "               name      segment  win_n win_rate  \n",
       "rank                                              \n",
       "1           knight8   Challenger    568      57%  \n",
       "2           바위게 내꺼야   Challenger     97      72%  \n",
       "3     DWG ShowMaker   Challenger    496      55%  \n",
       "4           칼과 창 방패   Challenger    496      54%  \n",
       "5           MVP ADD   Challenger    259      58%  "
      ]
     },
     "execution_count": 5,
     "metadata": {},
     "output_type": "execute_result"
    }
   ],
   "source": [
    "df_500_rank.LV=df_500_rank.LV.str.extract(\"(\\d+)\")\n",
    "df_500_rank.head()"
   ]
  },
  {
   "cell_type": "code",
   "execution_count": 6,
   "metadata": {},
   "outputs": [
    {
     "data": {
      "text/html": [
       "<div>\n",
       "<style>\n",
       "    .dataframe thead tr:only-child th {\n",
       "        text-align: right;\n",
       "    }\n",
       "\n",
       "    .dataframe thead th {\n",
       "        text-align: left;\n",
       "    }\n",
       "\n",
       "    .dataframe tbody tr th {\n",
       "        vertical-align: top;\n",
       "    }\n",
       "</style>\n",
       "<table border=\"1\" class=\"dataframe\">\n",
       "  <thead>\n",
       "    <tr style=\"text-align: right;\">\n",
       "      <th></th>\n",
       "      <th>LP</th>\n",
       "      <th>LV</th>\n",
       "      <th>lose_n</th>\n",
       "      <th>name</th>\n",
       "      <th>segment</th>\n",
       "      <th>win_n</th>\n",
       "      <th>win_rate</th>\n",
       "    </tr>\n",
       "    <tr>\n",
       "      <th>rank</th>\n",
       "      <th></th>\n",
       "      <th></th>\n",
       "      <th></th>\n",
       "      <th></th>\n",
       "      <th></th>\n",
       "      <th></th>\n",
       "      <th></th>\n",
       "    </tr>\n",
       "  </thead>\n",
       "  <tbody>\n",
       "    <tr>\n",
       "      <th>1</th>\n",
       "      <td>1267</td>\n",
       "      <td>133</td>\n",
       "      <td>436</td>\n",
       "      <td>knight8</td>\n",
       "      <td>Challenger</td>\n",
       "      <td>568</td>\n",
       "      <td>57%</td>\n",
       "    </tr>\n",
       "    <tr>\n",
       "      <th>2</th>\n",
       "      <td>1229</td>\n",
       "      <td>41</td>\n",
       "      <td>37</td>\n",
       "      <td>바위게 내꺼야</td>\n",
       "      <td>Challenger</td>\n",
       "      <td>97</td>\n",
       "      <td>72%</td>\n",
       "    </tr>\n",
       "    <tr>\n",
       "      <th>3</th>\n",
       "      <td>1145</td>\n",
       "      <td>118</td>\n",
       "      <td>399</td>\n",
       "      <td>DWG ShowMaker</td>\n",
       "      <td>Challenger</td>\n",
       "      <td>496</td>\n",
       "      <td>55%</td>\n",
       "    </tr>\n",
       "    <tr>\n",
       "      <th>4</th>\n",
       "      <td>1109</td>\n",
       "      <td>131</td>\n",
       "      <td>416</td>\n",
       "      <td>칼과 창 방패</td>\n",
       "      <td>Challenger</td>\n",
       "      <td>496</td>\n",
       "      <td>54%</td>\n",
       "    </tr>\n",
       "    <tr>\n",
       "      <th>5</th>\n",
       "      <td>1097</td>\n",
       "      <td>82</td>\n",
       "      <td>184</td>\n",
       "      <td>MVP ADD</td>\n",
       "      <td>Challenger</td>\n",
       "      <td>259</td>\n",
       "      <td>58%</td>\n",
       "    </tr>\n",
       "  </tbody>\n",
       "</table>\n",
       "</div>"
      ],
      "text/plain": [
       "        LP   LV  lose_n           name      segment  win_n win_rate\n",
       "rank                                                               \n",
       "1     1267  133     436        knight8   Challenger    568      57%\n",
       "2     1229   41      37        바위게 내꺼야   Challenger     97      72%\n",
       "3     1145  118     399  DWG ShowMaker   Challenger    496      55%\n",
       "4     1109  131     416        칼과 창 방패   Challenger    496      54%\n",
       "5     1097   82     184        MVP ADD   Challenger    259      58%"
      ]
     },
     "execution_count": 6,
     "metadata": {},
     "output_type": "execute_result"
    }
   ],
   "source": [
    "df_500_rank=df_500_rank.drop(\"info_href\",axis=1)\n",
    "df_500_rank.head()"
   ]
  },
  {
   "cell_type": "code",
   "execution_count": 8,
   "metadata": {},
   "outputs": [
    {
     "data": {
      "text/html": [
       "<div>\n",
       "<style>\n",
       "    .dataframe thead tr:only-child th {\n",
       "        text-align: right;\n",
       "    }\n",
       "\n",
       "    .dataframe thead th {\n",
       "        text-align: left;\n",
       "    }\n",
       "\n",
       "    .dataframe tbody tr th {\n",
       "        vertical-align: top;\n",
       "    }\n",
       "</style>\n",
       "<table border=\"1\" class=\"dataframe\">\n",
       "  <thead>\n",
       "    <tr style=\"text-align: right;\">\n",
       "      <th></th>\n",
       "      <th>LP</th>\n",
       "      <th>LV</th>\n",
       "      <th>lose_n</th>\n",
       "      <th>name</th>\n",
       "      <th>segment</th>\n",
       "      <th>win_n</th>\n",
       "      <th>win_rate</th>\n",
       "      <th>sum_n</th>\n",
       "    </tr>\n",
       "    <tr>\n",
       "      <th>rank</th>\n",
       "      <th></th>\n",
       "      <th></th>\n",
       "      <th></th>\n",
       "      <th></th>\n",
       "      <th></th>\n",
       "      <th></th>\n",
       "      <th></th>\n",
       "      <th></th>\n",
       "    </tr>\n",
       "  </thead>\n",
       "  <tbody>\n",
       "    <tr>\n",
       "      <th>1</th>\n",
       "      <td>1267</td>\n",
       "      <td>133</td>\n",
       "      <td>436</td>\n",
       "      <td>knight8</td>\n",
       "      <td>Challenger</td>\n",
       "      <td>568</td>\n",
       "      <td>57%</td>\n",
       "      <td>1004</td>\n",
       "    </tr>\n",
       "    <tr>\n",
       "      <th>2</th>\n",
       "      <td>1229</td>\n",
       "      <td>41</td>\n",
       "      <td>37</td>\n",
       "      <td>바위게 내꺼야</td>\n",
       "      <td>Challenger</td>\n",
       "      <td>97</td>\n",
       "      <td>72%</td>\n",
       "      <td>134</td>\n",
       "    </tr>\n",
       "    <tr>\n",
       "      <th>3</th>\n",
       "      <td>1145</td>\n",
       "      <td>118</td>\n",
       "      <td>399</td>\n",
       "      <td>DWG ShowMaker</td>\n",
       "      <td>Challenger</td>\n",
       "      <td>496</td>\n",
       "      <td>55%</td>\n",
       "      <td>895</td>\n",
       "    </tr>\n",
       "    <tr>\n",
       "      <th>4</th>\n",
       "      <td>1109</td>\n",
       "      <td>131</td>\n",
       "      <td>416</td>\n",
       "      <td>칼과 창 방패</td>\n",
       "      <td>Challenger</td>\n",
       "      <td>496</td>\n",
       "      <td>54%</td>\n",
       "      <td>912</td>\n",
       "    </tr>\n",
       "    <tr>\n",
       "      <th>5</th>\n",
       "      <td>1097</td>\n",
       "      <td>82</td>\n",
       "      <td>184</td>\n",
       "      <td>MVP ADD</td>\n",
       "      <td>Challenger</td>\n",
       "      <td>259</td>\n",
       "      <td>58%</td>\n",
       "      <td>443</td>\n",
       "    </tr>\n",
       "  </tbody>\n",
       "</table>\n",
       "</div>"
      ],
      "text/plain": [
       "        LP   LV  lose_n           name      segment  win_n win_rate  sum_n\n",
       "rank                                                                      \n",
       "1     1267  133     436        knight8   Challenger    568      57%   1004\n",
       "2     1229   41      37        바위게 내꺼야   Challenger     97      72%    134\n",
       "3     1145  118     399  DWG ShowMaker   Challenger    496      55%    895\n",
       "4     1109  131     416        칼과 창 방패   Challenger    496      54%    912\n",
       "5     1097   82     184        MVP ADD   Challenger    259      58%    443"
      ]
     },
     "execution_count": 8,
     "metadata": {},
     "output_type": "execute_result"
    }
   ],
   "source": [
    "df_500_rank.head()"
   ]
  },
  {
   "cell_type": "code",
   "execution_count": 14,
   "metadata": {},
   "outputs": [
    {
     "name": "stdout",
     "output_type": "stream",
     "text": [
      "排位最多的人:\n",
      "                   name  sum_n\n",
      "rank                         \n",
      "107           우르프rider   2746\n",
      "144   Independenceday1   2375\n",
      "289              ShiaC   2286\n",
      "408       Gipsy Danger   2272\n",
      "212         Gen G Life   2132\n",
      "375          Mango Dog   2062\n",
      "214             lwandy   2038\n",
      "32             다표음식은너야   2027\n",
      "389            taesang   1997\n",
      "409                새어악   1981\n"
     ]
    }
   ],
   "source": [
    "df_500_rank[\"sum_n\"]=df_500_rank[\"win_n\"]+df_500_rank[\"lose_n\"]\n",
    "print(\"排位最多的人:\\n\")\n",
    "print(df_500_rank.loc[:,[\"name\",\"sum_n\"]].sort_values(\"sum_n\",ascending=False)[:10])"
   ]
  },
  {
   "cell_type": "code",
   "execution_count": 22,
   "metadata": {},
   "outputs": [
    {
     "name": "stdout",
     "output_type": "stream",
     "text": [
      "              name  sum_n win_rate\n",
      "rank                              \n",
      "344          아쿠아랑께    121       78\n",
      "492            덕 구     89       76\n",
      "319        Do RaoN    123       75\n",
      "457       TF Brave    132       75\n",
      "120            키네카    175       74\n",
      "2          바위게 내꺼야    134       72\n",
      "495       란이누나 예뻐요    196       72\n",
      "203           Trud    176       71\n",
      "288    BtC OnFleek    151       70\n",
      "479   La Lune tear    318       68\n"
     ]
    }
   ],
   "source": [
    "#胜率榜单前十名：\n",
    "win_list_rank=list(np.argsort(df_500_rank.win_rate))[-10:]\n",
    "print(df_500_rank.loc[[i+1 for i in reversed(win_list_rank)],[\"name\",\"sum_n\",\"win_rate\"]])"
   ]
  },
  {
   "cell_type": "code",
   "execution_count": 20,
   "metadata": {},
   "outputs": [
    {
     "data": {
      "text/html": [
       "<div>\n",
       "<style>\n",
       "    .dataframe thead tr:only-child th {\n",
       "        text-align: right;\n",
       "    }\n",
       "\n",
       "    .dataframe thead th {\n",
       "        text-align: left;\n",
       "    }\n",
       "\n",
       "    .dataframe tbody tr th {\n",
       "        vertical-align: top;\n",
       "    }\n",
       "</style>\n",
       "<table border=\"1\" class=\"dataframe\">\n",
       "  <thead>\n",
       "    <tr style=\"text-align: right;\">\n",
       "      <th></th>\n",
       "      <th>name</th>\n",
       "      <th>win_rate</th>\n",
       "      <th>sum_n</th>\n",
       "    </tr>\n",
       "    <tr>\n",
       "      <th>rank</th>\n",
       "      <th></th>\n",
       "      <th></th>\n",
       "      <th></th>\n",
       "    </tr>\n",
       "  </thead>\n",
       "  <tbody>\n",
       "    <tr>\n",
       "      <th>479</th>\n",
       "      <td>La Lune tear</td>\n",
       "      <td>68</td>\n",
       "      <td>318</td>\n",
       "    </tr>\n",
       "    <tr>\n",
       "      <th>288</th>\n",
       "      <td>BtC OnFleek</td>\n",
       "      <td>70</td>\n",
       "      <td>151</td>\n",
       "    </tr>\n",
       "    <tr>\n",
       "      <th>203</th>\n",
       "      <td>Trud</td>\n",
       "      <td>71</td>\n",
       "      <td>176</td>\n",
       "    </tr>\n",
       "    <tr>\n",
       "      <th>495</th>\n",
       "      <td>란이누나 예뻐요</td>\n",
       "      <td>72</td>\n",
       "      <td>196</td>\n",
       "    </tr>\n",
       "    <tr>\n",
       "      <th>2</th>\n",
       "      <td>바위게 내꺼야</td>\n",
       "      <td>72</td>\n",
       "      <td>134</td>\n",
       "    </tr>\n",
       "    <tr>\n",
       "      <th>120</th>\n",
       "      <td>키네카</td>\n",
       "      <td>74</td>\n",
       "      <td>175</td>\n",
       "    </tr>\n",
       "    <tr>\n",
       "      <th>457</th>\n",
       "      <td>TF Brave</td>\n",
       "      <td>75</td>\n",
       "      <td>132</td>\n",
       "    </tr>\n",
       "    <tr>\n",
       "      <th>319</th>\n",
       "      <td>Do RaoN</td>\n",
       "      <td>75</td>\n",
       "      <td>123</td>\n",
       "    </tr>\n",
       "    <tr>\n",
       "      <th>492</th>\n",
       "      <td>덕 구</td>\n",
       "      <td>76</td>\n",
       "      <td>89</td>\n",
       "    </tr>\n",
       "    <tr>\n",
       "      <th>344</th>\n",
       "      <td>아쿠아랑께</td>\n",
       "      <td>78</td>\n",
       "      <td>121</td>\n",
       "    </tr>\n",
       "  </tbody>\n",
       "</table>\n",
       "</div>"
      ],
      "text/plain": [
       "              name win_rate  sum_n\n",
       "rank                              \n",
       "479   La Lune tear       68    318\n",
       "288    BtC OnFleek       70    151\n",
       "203           Trud       71    176\n",
       "495       란이누나 예뻐요       72    196\n",
       "2          바위게 내꺼야       72    134\n",
       "120            키네카       74    175\n",
       "457       TF Brave       75    132\n",
       "319        Do RaoN       75    123\n",
       "492            덕 구       76     89\n",
       "344          아쿠아랑께       78    121"
      ]
     },
     "execution_count": 20,
     "metadata": {},
     "output_type": "execute_result"
    }
   ],
   "source": [
    "df_500_rank.loc[:,[\"name\",\"win_rate\",\"sum_n\"]].sort_values(\"win_rate\")[-10:]"
   ]
  },
  {
   "cell_type": "code",
   "execution_count": 23,
   "metadata": {},
   "outputs": [
    {
     "data": {
      "text/html": [
       "<div>\n",
       "<style>\n",
       "    .dataframe thead tr:only-child th {\n",
       "        text-align: right;\n",
       "    }\n",
       "\n",
       "    .dataframe thead th {\n",
       "        text-align: left;\n",
       "    }\n",
       "\n",
       "    .dataframe tbody tr th {\n",
       "        vertical-align: top;\n",
       "    }\n",
       "</style>\n",
       "<table border=\"1\" class=\"dataframe\">\n",
       "  <thead>\n",
       "    <tr style=\"text-align: right;\">\n",
       "      <th></th>\n",
       "      <th>LP</th>\n",
       "      <th>LV</th>\n",
       "      <th>lose_n</th>\n",
       "      <th>name</th>\n",
       "      <th>segment</th>\n",
       "      <th>win_n</th>\n",
       "      <th>win_rate</th>\n",
       "      <th>sum_n</th>\n",
       "    </tr>\n",
       "    <tr>\n",
       "      <th>rank</th>\n",
       "      <th></th>\n",
       "      <th></th>\n",
       "      <th></th>\n",
       "      <th></th>\n",
       "      <th></th>\n",
       "      <th></th>\n",
       "      <th></th>\n",
       "      <th></th>\n",
       "    </tr>\n",
       "  </thead>\n",
       "  <tbody>\n",
       "    <tr>\n",
       "      <th>1</th>\n",
       "      <td>1267</td>\n",
       "      <td>133</td>\n",
       "      <td>436</td>\n",
       "      <td>knight8</td>\n",
       "      <td>Challenger</td>\n",
       "      <td>568</td>\n",
       "      <td>57</td>\n",
       "      <td>1004</td>\n",
       "    </tr>\n",
       "    <tr>\n",
       "      <th>2</th>\n",
       "      <td>1229</td>\n",
       "      <td>41</td>\n",
       "      <td>37</td>\n",
       "      <td>바위게 내꺼야</td>\n",
       "      <td>Challenger</td>\n",
       "      <td>97</td>\n",
       "      <td>72</td>\n",
       "      <td>134</td>\n",
       "    </tr>\n",
       "    <tr>\n",
       "      <th>3</th>\n",
       "      <td>1145</td>\n",
       "      <td>118</td>\n",
       "      <td>399</td>\n",
       "      <td>DWG ShowMaker</td>\n",
       "      <td>Challenger</td>\n",
       "      <td>496</td>\n",
       "      <td>55</td>\n",
       "      <td>895</td>\n",
       "    </tr>\n",
       "    <tr>\n",
       "      <th>4</th>\n",
       "      <td>1109</td>\n",
       "      <td>131</td>\n",
       "      <td>416</td>\n",
       "      <td>칼과 창 방패</td>\n",
       "      <td>Challenger</td>\n",
       "      <td>496</td>\n",
       "      <td>54</td>\n",
       "      <td>912</td>\n",
       "    </tr>\n",
       "    <tr>\n",
       "      <th>5</th>\n",
       "      <td>1097</td>\n",
       "      <td>82</td>\n",
       "      <td>184</td>\n",
       "      <td>MVP ADD</td>\n",
       "      <td>Challenger</td>\n",
       "      <td>259</td>\n",
       "      <td>58</td>\n",
       "      <td>443</td>\n",
       "    </tr>\n",
       "    <tr>\n",
       "      <th>6</th>\n",
       "      <td>1090</td>\n",
       "      <td>69</td>\n",
       "      <td>212</td>\n",
       "      <td>quaddd</td>\n",
       "      <td>Challenger</td>\n",
       "      <td>316</td>\n",
       "      <td>60</td>\n",
       "      <td>528</td>\n",
       "    </tr>\n",
       "    <tr>\n",
       "      <th>7</th>\n",
       "      <td>1058</td>\n",
       "      <td>72</td>\n",
       "      <td>286</td>\n",
       "      <td>Pireannn</td>\n",
       "      <td>Challenger</td>\n",
       "      <td>374</td>\n",
       "      <td>57</td>\n",
       "      <td>660</td>\n",
       "    </tr>\n",
       "    <tr>\n",
       "      <th>8</th>\n",
       "      <td>1056</td>\n",
       "      <td>78</td>\n",
       "      <td>286</td>\n",
       "      <td>tjudlsawqz</td>\n",
       "      <td>Challenger</td>\n",
       "      <td>383</td>\n",
       "      <td>57</td>\n",
       "      <td>669</td>\n",
       "    </tr>\n",
       "    <tr>\n",
       "      <th>9</th>\n",
       "      <td>1044</td>\n",
       "      <td>114</td>\n",
       "      <td>239</td>\n",
       "      <td>DontRemakeAatrox</td>\n",
       "      <td>Challenger</td>\n",
       "      <td>317</td>\n",
       "      <td>57</td>\n",
       "      <td>556</td>\n",
       "    </tr>\n",
       "    <tr>\n",
       "      <th>10</th>\n",
       "      <td>1036</td>\n",
       "      <td>117</td>\n",
       "      <td>217</td>\n",
       "      <td>MADKlNG</td>\n",
       "      <td>Challenger</td>\n",
       "      <td>292</td>\n",
       "      <td>57</td>\n",
       "      <td>509</td>\n",
       "    </tr>\n",
       "  </tbody>\n",
       "</table>\n",
       "</div>"
      ],
      "text/plain": [
       "        LP   LV  lose_n              name      segment  win_n win_rate  sum_n\n",
       "rank                                                                         \n",
       "1     1267  133     436           knight8   Challenger    568       57   1004\n",
       "2     1229   41      37           바위게 내꺼야   Challenger     97       72    134\n",
       "3     1145  118     399     DWG ShowMaker   Challenger    496       55    895\n",
       "4     1109  131     416           칼과 창 방패   Challenger    496       54    912\n",
       "5     1097   82     184           MVP ADD   Challenger    259       58    443\n",
       "6     1090   69     212            quaddd   Challenger    316       60    528\n",
       "7     1058   72     286          Pireannn   Challenger    374       57    660\n",
       "8     1056   78     286        tjudlsawqz   Challenger    383       57    669\n",
       "9     1044  114     239  DontRemakeAatrox   Challenger    317       57    556\n",
       "10    1036  117     217           MADKlNG   Challenger    292       57    509"
      ]
     },
     "execution_count": 23,
     "metadata": {},
     "output_type": "execute_result"
    }
   ],
   "source": [
    "df_500_rank[:10]"
   ]
  },
  {
   "cell_type": "code",
   "execution_count": 24,
   "metadata": {},
   "outputs": [
    {
     "data": {
      "text/plain": [
       "array([' Challenger', 'Challenger', 'Master'], dtype=object)"
      ]
     },
     "execution_count": 24,
     "metadata": {},
     "output_type": "execute_result"
    }
   ],
   "source": [
    "#按照段位分组累计：\n",
    "df_500_rank.segment.unique()"
   ]
  },
  {
   "cell_type": "code",
   "execution_count": 27,
   "metadata": {},
   "outputs": [
    {
     "data": {
      "text/plain": [
       "array(['Challenger', 'Master'], dtype=object)"
      ]
     },
     "execution_count": 27,
     "metadata": {},
     "output_type": "execute_result"
    }
   ],
   "source": [
    "df_500_rank.segment=df_500_rank.segment.str.strip()\n",
    "df_500_rank.segment.unique()"
   ]
  },
  {
   "cell_type": "code",
   "execution_count": 28,
   "metadata": {},
   "outputs": [
    {
     "data": {
      "text/html": [
       "<div>\n",
       "<style>\n",
       "    .dataframe thead tr:only-child th {\n",
       "        text-align: right;\n",
       "    }\n",
       "\n",
       "    .dataframe thead th {\n",
       "        text-align: left;\n",
       "    }\n",
       "\n",
       "    .dataframe tbody tr th {\n",
       "        vertical-align: top;\n",
       "    }\n",
       "</style>\n",
       "<table border=\"1\" class=\"dataframe\">\n",
       "  <thead>\n",
       "    <tr style=\"text-align: right;\">\n",
       "      <th></th>\n",
       "      <th>lose_n</th>\n",
       "      <th>win_n</th>\n",
       "      <th>sum_n</th>\n",
       "    </tr>\n",
       "    <tr>\n",
       "      <th>segment</th>\n",
       "      <th></th>\n",
       "      <th></th>\n",
       "      <th></th>\n",
       "    </tr>\n",
       "  </thead>\n",
       "  <tbody>\n",
       "    <tr>\n",
       "      <th>Challenger</th>\n",
       "      <td>74657</td>\n",
       "      <td>87285</td>\n",
       "      <td>161942</td>\n",
       "    </tr>\n",
       "    <tr>\n",
       "      <th>Master</th>\n",
       "      <td>116804</td>\n",
       "      <td>131377</td>\n",
       "      <td>248181</td>\n",
       "    </tr>\n",
       "  </tbody>\n",
       "</table>\n",
       "</div>"
      ],
      "text/plain": [
       "            lose_n   win_n   sum_n\n",
       "segment                           \n",
       "Challenger   74657   87285  161942\n",
       "Master      116804  131377  248181"
      ]
     },
     "execution_count": 28,
     "metadata": {},
     "output_type": "execute_result"
    }
   ],
   "source": [
    "df_500_rank.groupby(\"segment\").sum()"
   ]
  },
  {
   "cell_type": "code",
   "execution_count": 75,
   "metadata": {},
   "outputs": [
    {
     "name": "stdout",
     "output_type": "stream",
     "text": [
      "segment\n",
      "Challenger    809.71\n",
      "Master        827.27\n",
      "dtype: float64\n"
     ]
    }
   ],
   "source": [
    "df_1=df_500_rank.groupby(\"segment\")[\"lose_n\",\"win_n\",\"sum_n\"].sum()\n",
    "df_1[\"s\"]=df_500_rank.groupby(\"segment\")[\"segment\"].count()\n",
    "print(df_1[\"sum_n\"]/df_1.s)"
   ]
  },
  {
   "cell_type": "code",
   "execution_count": 76,
   "metadata": {},
   "outputs": [
    {
     "data": {
      "text/plain": [
       "<seaborn.axisgrid.FacetGrid at 0xadce1b0>"
      ]
     },
     "execution_count": 76,
     "metadata": {},
     "output_type": "execute_result"
    },
    {
     "data": {
      "image/png": "[encoded data removed]",
      "text/plain": [
       "<matplotlib.figure.Figure at 0xab3f9f0>"
      ]
     },
     "metadata": {},
     "output_type": "display_data"
    }
   ],
   "source": [
    "import matplotlib.pyplot as plt\n",
    "%matplotlib inline\n",
    "import seaborn as sns\n",
    "sns.set()\n",
    "grid=sns.FacetGrid(df_500_rank,row=\"segment\")\n",
    "df_500_rank.LP=df_500_rank.LP.astype(\"int\")\n",
    "grid.map(plt.hist,\"LP\",bins=np.linspace(0,1200,50))"
   ]
  },
  {
   "cell_type": "code",
   "execution_count": 77,
   "metadata": {},
   "outputs": [
    {
     "data": {
      "image/png": "[encoded data removed]",
      "text/plain": [
       "<matplotlib.figure.Figure at 0x7a1be50>"
      ]
     },
     "metadata": {},
     "output_type": "display_data"
    }
   ],
   "source": [
    "ChallengerLP=df_500_rank[\"LP\"][df_500_rank.segment==\"Challenger\"]\n",
    "MasterLP=df_500_rank[\"LP\"][df_500_rank.segment==\"Master\"]\n",
    "for col in [ChallengerLP,MasterLP]:\n",
    "    sns.distplot(col)"
   ]
  },
  {
   "cell_type": "code",
   "execution_count": 86,
   "metadata": {},
   "outputs": [
    {
     "name": "stdout",
     "output_type": "stream",
     "text": [
      "406\n",
      "464\n"
     ]
    }
   ],
   "source": [
    "print(ChallengerLP.iloc[-1])\n",
    "print(MasterLP.iloc[0])"
   ]
  },
  {
   "cell_type": "code",
   "execution_count": 89,
   "metadata": {},
   "outputs": [
    {
     "data": {
      "image/png": "[encoded data removed]",
      "text/plain": [
       "<matplotlib.figure.Figure at 0xae02e90>"
      ]
     },
     "metadata": {},
     "output_type": "display_data"
    }
   ],
   "source": [
    "ChallengerSum=df_500_rank[\"sum_n\"][df_500_rank.segment==\"Challenger\"]\n",
    "MasterSum=df_500_rank[\"sum_n\"][df_500_rank.segment==\"Master\"]\n",
    "for col in [ChallengerSum,MasterSum]:\n",
    "    sns.distplot(col)"
   ]
  },
  {
   "cell_type": "code",
   "execution_count": 93,
   "metadata": {},
   "outputs": [
    {
     "data": {
      "image/png": "[encoded data removed]",
      "text/plain": [
       "<matplotlib.figure.Figure at 0xb01ce50>"
      ]
     },
     "metadata": {},
     "output_type": "display_data"
    }
   ],
   "source": [
    "ChallengerWinRate=df_500_rank[\"win_rate\"][df_500_rank.segment==\"Challenger\"].astype(\"int\")\n",
    "MasterWinRate=df_500_rank[\"win_rate\"][df_500_rank.segment==\"Master\"].astype(\"int\")\n",
    "for col in [ChallengerWinRate,MasterWinRate]:\n",
    "    sns.distplot(col)"
   ]
  },
  {
   "cell_type": "code",
   "execution_count": 98,
   "metadata": {},
   "outputs": [
    {
     "data": {
      "image/png": "[encoded data removed]",
      "text/plain": [
       "<matplotlib.figure.Figure at 0xab19db0>"
      ]
     },
     "metadata": {},
     "output_type": "display_data"
    }
   ],
   "source": [
    "df_500_rank[\"win_increase\"]=df_500_rank.win_n-df_500_rank.lose_n\n",
    "ChallengerWinInc=df_500_rank[\"win_increase\"][df_500_rank.segment==\"Challenger\"]\n",
    "MasterWinInc=df_500_rank[\"win_increase\"][df_500_rank.segment==\"Master\"]\n",
    "for col in [ChallengerWinInc,MasterWinInc]:\n",
    "    sns.distplot(col)"
   ]
  },
  {
   "cell_type": "code",
   "execution_count": 100,
   "metadata": {},
   "outputs": [
    {
     "data": {
      "text/plain": [
       "segment\n",
       "Challenger    63.140000\n",
       "Master        48.576667\n",
       "dtype: float64"
      ]
     },
     "execution_count": 100,
     "metadata": {},
     "output_type": "execute_result"
    }
   ],
   "source": [
    "(df_1[\"win_n\"]-df_1[\"lose_n\"])/df_1[\"s\"]"
   ]
  },
  {
   "cell_type": "code",
   "execution_count": 101,
   "metadata": {},
   "outputs": [
    {
     "name": "stdout",
     "output_type": "stream",
     "text": [
      "     A  B  C\n",
      "0  foo  0  A\n",
      "1  foo  1  A\n",
      "2  foo  1  B\n",
      "3  bar  1  A\n"
     ]
    },
    {
     "data": {
      "text/html": [
       "<div>\n",
       "<style>\n",
       "    .dataframe thead tr:only-child th {\n",
       "        text-align: right;\n",
       "    }\n",
       "\n",
       "    .dataframe thead th {\n",
       "        text-align: left;\n",
       "    }\n",
       "\n",
       "    .dataframe tbody tr th {\n",
       "        vertical-align: top;\n",
       "    }\n",
       "</style>\n",
       "<table border=\"1\" class=\"dataframe\">\n",
       "  <thead>\n",
       "    <tr style=\"text-align: right;\">\n",
       "      <th></th>\n",
       "      <th>A</th>\n",
       "      <th>B</th>\n",
       "      <th>C</th>\n",
       "    </tr>\n",
       "  </thead>\n",
       "  <tbody>\n",
       "    <tr>\n",
       "      <th>2</th>\n",
       "      <td>foo</td>\n",
       "      <td>1</td>\n",
       "      <td>B</td>\n",
       "    </tr>\n",
       "    <tr>\n",
       "      <th>3</th>\n",
       "      <td>bar</td>\n",
       "      <td>1</td>\n",
       "      <td>A</td>\n",
       "    </tr>\n",
       "  </tbody>\n",
       "</table>\n",
       "</div>"
      ],
      "text/plain": [
       "     A  B  C\n",
       "2  foo  1  B\n",
       "3  bar  1  A"
      ]
     },
     "execution_count": 101,
     "metadata": {},
     "output_type": "execute_result"
    }
   ],
   "source": [
    "import pandas as pd\n",
    "df = pd.DataFrame({\"A\":[\"foo\", \"foo\", \"foo\", \"bar\"], \"B\":[0,1,1,1], \"C\":[\"A\",\"A\",\"B\",\"A\"]})\n",
    "print(df)\n",
    "df.groupby([\"A\", \"C\"]).filter(lambda df:df.shape[0] == 1)"
   ]
  },
  {
   "cell_type": "code",
   "execution_count": null,
   "metadata": {
    "collapsed": true
   },
   "outputs": [],
   "source": []
  }
 ],
 "metadata": {
  "kernelspec": {
   "display_name": "Python 3",
   "language": "python",
   "name": "python3"
  },
  "language_info": {
   "codemirror_mode": {
    "name": "ipython",
    "version": 3
   },
   "file_extension": ".py",
   "mimetype": "text/x-python",
   "name": "python",
   "nbconvert_exporter": "python",
   "pygments_lexer": "ipython3",
   "version": "3.6.1"
  }
 },
 "nbformat": 4,
 "nbformat_minor": 2
}
